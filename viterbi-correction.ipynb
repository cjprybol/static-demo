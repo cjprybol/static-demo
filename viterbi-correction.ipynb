{
 "cells": [
  {
   "cell_type": "markdown",
   "metadata": {},
   "source": [
    "The following example shows the full detail walkthrough calculations for utilizing the viterbi algorithm to determine the most likely path for a given sequence/read to take through an assembly graph. In this very simple example, the key is showing how even when a relatively high error rate is assumed, no corrections are made (true negative)"
   ]
  },
  {
   "cell_type": "code",
   "execution_count": 1,
   "metadata": {},
   "outputs": [
    {
     "name": "stderr",
     "output_type": "stream",
     "text": [
      "┌ Info: Recompiling stale cache file /Users/Cameron/.julia/compiled/v1.1/Eisenia.ji for Eisenia [top-level]\n",
      "└ @ Base loading.jl:1184\n"
     ]
    }
   ],
   "source": [
    "using Eisenia\n",
    "using Random\n",
    "using Dates"
   ]
  },
  {
   "cell_type": "code",
   "execution_count": 2,
   "metadata": {},
   "outputs": [
    {
     "data": {
      "text/plain": [
       "BioSequences.FASTA.Record:\n",
       "   identifier: Apx\n",
       "  description: <missing>\n",
       "     sequence: ACCAAACTAT"
      ]
     },
     "execution_count": 2,
     "metadata": {},
     "output_type": "execute_result"
    }
   ],
   "source": [
    "L = 10\n",
    "Random.seed!(L)\n",
    "reference_sequence = randdnaseq(L)\n",
    "reference_sequence_id = randstring(Int(round(log10(length(L)))+3))\n",
    "reference_FASTA_record = FASTA.Record(reference_sequence_id, reference_sequence)"
   ]
  },
  {
   "cell_type": "code",
   "execution_count": 3,
   "metadata": {},
   "outputs": [
    {
     "data": {
      "text/plain": [
       "1-element Array{BioSequences.FASTA.Record,1}:\n",
       " BioSequences.FASTA.Record:\n",
       "   identifier: Apx\n",
       "  description: <missing>\n",
       "     sequence: ACCAAACTAT"
      ]
     },
     "execution_count": 3,
     "metadata": {},
     "output_type": "execute_result"
    }
   ],
   "source": [
    "error_rate = 0.15\n",
    "observations = [reference_FASTA_record]"
   ]
  },
  {
   "cell_type": "code",
   "execution_count": 4,
   "metadata": {},
   "outputs": [
    {
     "data": {
      "text/html": [
       "<image src=\"Apx.2019-07-24T20.14.55.009.svg\" width=50%>\n"
      ],
      "text/plain": [
       "HTML{String}(\"<image src=\\\"Apx.2019-07-24T20.14.55.009.svg\\\" width=50%>\\n\")"
      ]
     },
     "execution_count": 4,
     "metadata": {},
     "output_type": "execute_result"
    }
   ],
   "source": [
    "k = 1\n",
    "canonical_kmers = collect(keys(Eisenia.count_canonical_kmers(observations, k)))\n",
    "stranded_kmer_graph = Eisenia.build_stranded_kmer_graph(canonical_kmers, observations)\n",
    "filename = reference_sequence_id * \".\" * replace(string(Dates.now()), ':' => '.') * \".svg\"\n",
    "Eisenia.plot_stranded_kmer_graph(stranded_kmer_graph, filename=filename)\n",
    "HTML(\"\"\"\n",
    "<image src=\"$filename\" width=50%>\n",
    "\"\"\")"
   ]
  },
  {
   "cell_type": "code",
   "execution_count": 5,
   "metadata": {},
   "outputs": [
    {
     "name": "stdout",
     "output_type": "stream",
     "text": [
      "computing kmer counts...\n",
      "computing kmer state likelihoods...\n",
      "STATE LIKELIHOODS:\n",
      "\tkmer\tcount\tlikelihood\n",
      "\tA\t5\t0.5\n",
      "\tC\t3\t0.3\n",
      "\tG\t0\t0.0\n",
      "\tT\t2\t0.2\n",
      "finding shortest paths between kmers...\n",
      "\t1\t1\t[1, 1]\n",
      "\t1\t2\t[1, 2]\n",
      "\t1\t3\tInt64[]\n",
      "\t1\t4\t[1, 4]\n",
      "\t2\t1\t[2, 1]\n",
      "\t2\t2\t[2, 2]\n",
      "\t2\t3\tInt64[]\n",
      "\t2\t4\t[2, 4]\n",
      "\t3\t1\tInt64[]\n",
      "\t3\t2\tInt64[]\n",
      "\t3\t3\tInt64[]\n",
      "\t3\t4\tInt64[]\n",
      "\t4\t1\t[4, 1]\n",
      "\t4\t2\t[4, 1, 2]\n",
      "\t4\t3\tInt64[]\n",
      "\t4\t4\tInt64[]\n",
      "finding viterbi maximum likelihood paths for observed sequences...\n",
      "\n",
      "evaluating sequence 1 of 1\n",
      "\tconsidering path state 1\n",
      "\t\tobserved kmer A\n",
      "\t\tInitial state log likelihoods:\n",
      "\t\t\t4-element Array{Float64,1}:\n",
      "\t\t\t   -0.16251892949777494\n",
      "\t\t\t   -2.4079456086518722 \n",
      "\t\t\t -Inf                  \n",
      "\t\t\t   -2.8134107167600364 \n",
      "\tconsidering path state 2\n",
      "\t\tobserved base C\n",
      "\t\tkmer log likelihoods\n",
      "\t\t\t4×10 Array{Float64,2}:\n",
      "\t\t\t   -0.162519    -2.75279  0.0  0.0  0.0  0.0  0.0  0.0  0.0  0.0\n",
      "\t\t\t   -2.40795     -1.52901  0.0  0.0  0.0  0.0  0.0  0.0  0.0  0.0\n",
      "\t\t\t -Inf         -Inf        0.0  0.0  0.0  0.0  0.0  0.0  0.0  0.0\n",
      "\t\t\t   -2.81341     -3.66908  0.0  0.0  0.0  0.0  0.0  0.0  0.0  0.0\n",
      "\t\tarrival paths\n",
      "\t\t\t4×10 Array{Array{Int64,1},2}:\n",
      "\t\t\t []  [1, 1]  #undef  #undef  #undef  #undef  #undef  #undef  #undef  #undef\n",
      "\t\t\t []  [1, 2]  #undef  #undef  #undef  #undef  #undef  #undef  #undef  #undef\n",
      "\t\t\t []  []      #undef  #undef  #undef  #undef  #undef  #undef  #undef  #undef\n",
      "\t\t\t []  [1, 4]  #undef  #undef  #undef  #undef  #undef  #undef  #undef  #undef\n",
      "\tconsidering path state 3\n",
      "\t\tobserved base C\n",
      "\t\tkmer log likelihoods\n",
      "\t\t\t4×10 Array{Float64,2}:\n",
      "\t\t\t   -0.162519    -2.75279    -4.11928  0.0  0.0  0.0  0.0  0.0  0.0  0.0\n",
      "\t\t\t   -2.40795     -1.52901    -2.8955   0.0  0.0  0.0  0.0  0.0  0.0  0.0\n",
      "\t\t\t -Inf         -Inf        -Inf        0.0  0.0  0.0  0.0  0.0  0.0  0.0\n",
      "\t\t\t   -2.81341     -3.66908    -5.03557  0.0  0.0  0.0  0.0  0.0  0.0  0.0\n",
      "\t\tarrival paths\n",
      "\t\t\t4×10 Array{Array{Int64,1},2}:\n",
      "\t\t\t []  [1, 1]  [2, 1]  #undef  #undef  #undef  #undef  #undef  #undef  #undef\n",
      "\t\t\t []  [1, 2]  [2, 2]  #undef  #undef  #undef  #undef  #undef  #undef  #undef\n",
      "\t\t\t []  []      []      #undef  #undef  #undef  #undef  #undef  #undef  #undef\n",
      "\t\t\t []  [1, 4]  [2, 4]  #undef  #undef  #undef  #undef  #undef  #undef  #undef\n",
      "\tconsidering path state 4\n",
      "\t\tobserved base A\n",
      "\t\tkmer log likelihoods\n",
      "\t\t\t4×10 Array{Float64,2}:\n",
      "\t\t\t   -0.162519    -2.75279    -4.11928    -3.75117  0.0  0.0  0.0  0.0  0.0  0.0\n",
      "\t\t\t   -2.40795     -1.52901    -2.8955     -5.9966   0.0  0.0  0.0  0.0  0.0  0.0\n",
      "\t\t\t -Inf         -Inf        -Inf        -Inf        0.0  0.0  0.0  0.0  0.0  0.0\n",
      "\t\t\t   -2.81341     -3.66908    -5.03557    -6.40206  0.0  0.0  0.0  0.0  0.0  0.0\n",
      "\t\tarrival paths\n",
      "\t\t\t4×10 Array{Array{Int64,1},2}:\n",
      "\t\t\t []  [1, 1]  [2, 1]  [2, 1]  #undef  #undef  #undef  #undef  #undef  #undef\n",
      "\t\t\t []  [1, 2]  [2, 2]  [2, 2]  #undef  #undef  #undef  #undef  #undef  #undef\n",
      "\t\t\t []  []      []      []      #undef  #undef  #undef  #undef  #undef  #undef\n",
      "\t\t\t []  [1, 4]  [2, 4]  [2, 4]  #undef  #undef  #undef  #undef  #undef  #undef\n",
      "\tconsidering path state 5\n",
      "\t\tobserved base A\n",
      "\t\tkmer log likelihoods\n",
      "\t\t\t4×10 Array{Float64,2}:\n",
      "\t\t\t   -0.162519    -2.75279    -4.11928    -3.75117    -4.60683  0.0  0.0  0.0  0.0  0.0\n",
      "\t\t\t   -2.40795     -1.52901    -2.8955     -5.9966     -6.85226  0.0  0.0  0.0  0.0  0.0\n",
      "\t\t\t -Inf         -Inf        -Inf        -Inf        -Inf        0.0  0.0  0.0  0.0  0.0\n",
      "\t\t\t   -2.81341     -3.66908    -5.03557    -6.40206    -7.25773  0.0  0.0  0.0  0.0  0.0\n",
      "\t\tarrival paths\n",
      "\t\t\t4×10 Array{Array{Int64,1},2}:\n",
      "\t\t\t []  [1, 1]  [2, 1]  [2, 1]  [1, 1]  #undef  #undef  #undef  #undef  #undef\n",
      "\t\t\t []  [1, 2]  [2, 2]  [2, 2]  [1, 2]  #undef  #undef  #undef  #undef  #undef\n",
      "\t\t\t []  []      []      []      []      #undef  #undef  #undef  #undef  #undef\n",
      "\t\t\t []  [1, 4]  [2, 4]  [2, 4]  [1, 4]  #undef  #undef  #undef  #undef  #undef\n",
      "\tconsidering path state 6\n",
      "\t\tobserved base A\n",
      "\t\tkmer log likelihoods\n",
      "\t\t\t4×10 Array{Float64,2}:\n",
      "\t\t\t   -0.162519    -2.75279    -4.11928    -3.75117    -4.60683    -5.4625   0.0  0.0  0.0  0.0\n",
      "\t\t\t   -2.40795     -1.52901    -2.8955     -5.9966     -6.85226    -7.70793  0.0  0.0  0.0  0.0\n",
      "\t\t\t -Inf         -Inf        -Inf        -Inf        -Inf        -Inf        0.0  0.0  0.0  0.0\n",
      "\t\t\t   -2.81341     -3.66908    -5.03557    -6.40206    -7.25773    -8.11339  0.0  0.0  0.0  0.0\n",
      "\t\tarrival paths\n",
      "\t\t\t4×10 Array{Array{Int64,1},2}:\n",
      "\t\t\t []  [1, 1]  [2, 1]  [2, 1]  [1, 1]  [1, 1]  #undef  #undef  #undef  #undef\n",
      "\t\t\t []  [1, 2]  [2, 2]  [2, 2]  [1, 2]  [1, 2]  #undef  #undef  #undef  #undef\n",
      "\t\t\t []  []      []      []      []      []      #undef  #undef  #undef  #undef\n",
      "\t\t\t []  [1, 4]  [2, 4]  [2, 4]  [1, 4]  [1, 4]  #undef  #undef  #undef  #undef\n",
      "\tconsidering path state 7\n",
      "\t\tobserved base C\n",
      "\t\tkmer log likelihoods\n",
      "\t\t\t4×10 Array{Float64,2}:\n",
      "\t\t\t   -0.162519    -2.75279    -4.11928    -3.75117    -4.60683    -5.4625     -8.05277  0.0  0.0  0.0\n",
      "\t\t\t   -2.40795     -1.52901    -2.8955     -5.9966     -6.85226    -7.70793    -6.82899  0.0  0.0  0.0\n",
      "\t\t\t -Inf         -Inf        -Inf        -Inf        -Inf        -Inf        -Inf        0.0  0.0  0.0\n",
      "\t\t\t   -2.81341     -3.66908    -5.03557    -6.40206    -7.25773    -8.11339    -8.96906  0.0  0.0  0.0\n",
      "\t\tarrival paths\n",
      "\t\t\t4×10 Array{Array{Int64,1},2}:\n",
      "\t\t\t []  [1, 1]  [2, 1]  [2, 1]  [1, 1]  [1, 1]  [1, 1]  #undef  #undef  #undef\n",
      "\t\t\t []  [1, 2]  [2, 2]  [2, 2]  [1, 2]  [1, 2]  [1, 2]  #undef  #undef  #undef\n",
      "\t\t\t []  []      []      []      []      []      []      #undef  #undef  #undef\n",
      "\t\t\t []  [1, 4]  [2, 4]  [2, 4]  [1, 4]  [1, 4]  [1, 4]  #undef  #undef  #undef\n",
      "\tconsidering path state 8\n",
      "\t\tobserved base T\n",
      "\t\tkmer log likelihoods\n",
      "\t\t\t4×10 Array{Float64,2}:\n",
      "\t\t\t   -0.162519    -2.75279    -4.11928    -3.75117    -4.60683    -5.4625     -8.05277    -9.41926  0.0  0.0\n",
      "\t\t\t   -2.40795     -1.52901    -2.8955     -5.9966     -6.85226    -7.70793    -6.82899    -9.93009  0.0  0.0\n",
      "\t\t\t -Inf         -Inf        -Inf        -Inf        -Inf        -Inf        -Inf        -Inf        0.0  0.0\n",
      "\t\t\t   -2.81341     -3.66908    -5.03557    -6.40206    -7.25773    -8.11339    -8.96906    -8.60095  0.0  0.0\n",
      "\t\tarrival paths\n",
      "\t\t\t4×10 Array{Array{Int64,1},2}:\n",
      "\t\t\t []  [1, 1]  [2, 1]  [2, 1]  [1, 1]  [1, 1]  [1, 1]  [2, 1]  #undef  #undef\n",
      "\t\t\t []  [1, 2]  [2, 2]  [2, 2]  [1, 2]  [1, 2]  [1, 2]  [2, 2]  #undef  #undef\n",
      "\t\t\t []  []      []      []      []      []      []      []      #undef  #undef\n",
      "\t\t\t []  [1, 4]  [2, 4]  [2, 4]  [1, 4]  [1, 4]  [1, 4]  [2, 4]  #undef  #undef\n",
      "\tconsidering path state 9\n",
      "\t\tobserved base A\n",
      "\t\tkmer log likelihoods\n",
      "\t\t\t4×10 Array{Float64,2}:\n",
      "\t\t\t   -0.162519    -2.75279    -4.11928    -3.75117    -4.60683    -5.4625     -8.05277    -9.41926    -9.45662  0.0\n",
      "\t\t\t   -2.40795     -1.52901    -2.8955     -5.9966     -6.85226    -7.70793    -6.82899    -9.93009   -12.5204   0.0\n",
      "\t\t\t -Inf         -Inf        -Inf        -Inf        -Inf        -Inf        -Inf        -Inf        -Inf        0.0\n",
      "\t\t\t   -2.81341     -3.66908    -5.03557    -6.40206    -7.25773    -8.11339    -8.96906    -8.60095   -12.9258   0.0\n",
      "\t\tarrival paths\n",
      "\t\t\t4×10 Array{Array{Int64,1},2}:\n",
      "\t\t\t []  [1, 1]  [2, 1]  [2, 1]  [1, 1]  [1, 1]  [1, 1]  [2, 1]  [4, 1]  #undef\n",
      "\t\t\t []  [1, 2]  [2, 2]  [2, 2]  [1, 2]  [1, 2]  [1, 2]  [2, 2]  [1, 2]  #undef\n",
      "\t\t\t []  []      []      []      []      []      []      []      []      #undef\n",
      "\t\t\t []  [1, 4]  [2, 4]  [2, 4]  [1, 4]  [1, 4]  [1, 4]  [2, 4]  [1, 4]  #undef\n",
      "\tconsidering path state 10\n",
      "\t\tobserved base T\n",
      "\t\tkmer log likelihoods\n",
      "\t\t\t4×10 Array{Float64,2}:\n",
      "\t\t\t   -0.162519    -2.75279    -4.11928    -3.75117    -4.60683    -5.4625     -8.05277    -9.41926    -9.45662   -12.0469\n",
      "\t\t\t   -2.40795     -1.52901    -2.8955     -5.9966     -6.85226    -7.70793    -6.82899    -9.93009   -12.5204    -12.5577\n",
      "\t\t\t -Inf         -Inf        -Inf        -Inf        -Inf        -Inf        -Inf        -Inf        -Inf        -Inf     \n",
      "\t\t\t   -2.81341     -3.66908    -5.03557    -6.40206    -7.25773    -8.11339    -8.96906    -8.60095   -12.9258    -11.2286\n",
      "\t\tarrival paths\n",
      "\t\t\t4×10 Array{Array{Int64,1},2}:\n",
      "\t\t\t []  [1, 1]  [2, 1]  [2, 1]  [1, 1]  [1, 1]  [1, 1]  [2, 1]  [4, 1]  [1, 1]\n",
      "\t\t\t []  [1, 2]  [2, 2]  [2, 2]  [1, 2]  [1, 2]  [1, 2]  [2, 2]  [1, 2]  [1, 2]\n",
      "\t\t\t []  []      []      []      []      []      []      []      []      []    \n",
      "\t\t\t []  [1, 4]  [2, 4]  [2, 4]  [1, 4]  [1, 4]  [1, 4]  [2, 4]  [1, 4]  [1, 4]\n",
      "\n",
      "\tInputs for viterbi maximum likelihood traversal evaluation:\n",
      "\t\tkmer log likelihoods\n",
      "\t\t\t4×10 Array{Float64,2}:\n",
      "\t\t\t   -0.162519    -2.75279    -4.11928    -3.75117    -4.60683    -5.4625     -8.05277    -9.41926    -9.45662   -12.0469\n",
      "\t\t\t   -2.40795     -1.52901    -2.8955     -5.9966     -6.85226    -7.70793    -6.82899    -9.93009   -12.5204    -12.5577\n",
      "\t\t\t -Inf         -Inf        -Inf        -Inf        -Inf        -Inf        -Inf        -Inf        -Inf        -Inf     \n",
      "\t\t\t   -2.81341     -3.66908    -5.03557    -6.40206    -7.25773    -8.11339    -8.96906    -8.60095   -12.9258    -11.2286\n",
      "\t\tkmer arrival paths\n",
      "\t\t\t4×10 Array{Array{Int64,1},2}:\n",
      "\t\t\t []  [1, 1]  [2, 1]  [2, 1]  [1, 1]  [1, 1]  [1, 1]  [2, 1]  [4, 1]  [1, 1]\n",
      "\t\t\t []  [1, 2]  [2, 2]  [2, 2]  [1, 2]  [1, 2]  [1, 2]  [2, 2]  [1, 2]  [1, 2]\n",
      "\t\t\t []  []      []      []      []      []      []      []      []      []    \n",
      "\t\t\t []  [1, 4]  [2, 4]  [2, 4]  [1, 4]  [1, 4]  [1, 4]  [2, 4]  [1, 4]  [1, 4]\n",
      "\t\tedit distances\n",
      "\t\t\t4×10 Array{Int64,2}:\n",
      "\t\t\t 0  1  1  0  0  0  1  1  0  1\n",
      "\t\t\t 1  0  0  1  1  1  0  1  2  1\n",
      "\t\t\t 1  0  0  0  0  0  0  0  0  0\n",
      "\t\t\t 1  1  1  1  1  1  1  0  2  0\n",
      "\tobserved sequence                 ACCAAACTAT\n",
      "\tmaximum likelihood sequence       ACCAAACTAT\n",
      "\tmaximum likelihood edit distance  0\n",
      "\n",
      "DATASET STATISTICS:\n",
      "\tassumed error rate    15.0%\n",
      "\ttotal bases observed  10\n",
      "\ttotal edits accepted  0\n",
      "\tinferred error rate   0.0%\n"
     ]
    }
   ],
   "source": [
    "Eisenia.viterbi_maximum_likelihood_traversals(stranded_kmer_graph, error_rate = error_rate, verbosity=\"debug\");"
   ]
  }
 ],
 "metadata": {
  "kernelspec": {
   "display_name": "Julia 1.1.0",
   "language": "julia",
   "name": "julia-1.1"
  },
  "language_info": {
   "file_extension": ".jl",
   "mimetype": "application/julia",
   "name": "julia",
   "version": "1.1.0"
  }
 },
 "nbformat": 4,
 "nbformat_minor": 2
}
