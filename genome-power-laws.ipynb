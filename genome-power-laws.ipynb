{
 "cells": [
  {
   "cell_type": "markdown",
   "metadata": {},
   "source": [
    "# Genome Power Laws\n",
    "\n",
    "The following notebook demonstrates how there is a general feature of genomes across organisms that beyond a certain k-length, all kmers in the genome converge towards a linear relationship between the frequency of kmers (depth of coverage, X axis) and the number of kmers with that frequency (# of kmers, Y axis). This is simply a transformed histogram, however it is an important feature to recognize because it can be leveraged to efficiently assemble genomes and identify the closest related species to the assemblies."
   ]
  },
  {
   "cell_type": "markdown",
   "metadata": {},
   "source": [
    "get taxonomy from [here](ftp://ftp.ncbi.nih.gov/pub/taxonomy/)"
   ]
  },
  {
   "cell_type": "code",
   "execution_count": 1,
   "metadata": {},
   "outputs": [],
   "source": [
    "if !isdir(\"../_data/taxonomy\")\n",
    "    mkdir(\"../_data/taxonomy\")\n",
    "end\n",
    "if !isfile(\"../_data/taxonomy/taxdump.tar.gz\")\n",
    "    download(\"ftp://ftp.ncbi.nih.gov/pub/taxonomy/taxdump.tar.gz\", \"../_data/taxonomy/taxdump.tar.gz\")\n",
    "end"
   ]
  },
  {
   "cell_type": "code",
   "execution_count": 2,
   "metadata": {},
   "outputs": [
    {
     "data": {
      "text/plain": [
       "Process(`\u001b[4mtar\u001b[24m \u001b[4m-xzf\u001b[24m \u001b[4m../_data/taxonomy/taxdump.tar.gz\u001b[24m \u001b[4m-C\u001b[24m \u001b[4m../_data/taxonomy\u001b[24m`, ProcessExited(0))"
      ]
     },
     "execution_count": 2,
     "metadata": {},
     "output_type": "execute_result"
    }
   ],
   "source": [
    "run(`tar -xzf ../_data/taxonomy/taxdump.tar.gz -C ../_data/taxonomy`)"
   ]
  },
  {
   "cell_type": "code",
   "execution_count": 3,
   "metadata": {},
   "outputs": [],
   "source": [
    "using uCSV\n",
    "using DataFrames\n",
    "using StatsBase\n",
    "using Random"
   ]
  },
  {
   "cell_type": "code",
   "execution_count": 4,
   "metadata": {},
   "outputs": [
    {
     "data": {
      "text/html": [
       "<table class=\"data-frame\"><thead><tr><th></th><th># assembly_accession</th><th>bioproject</th><th>biosample</th><th>wgs_master</th><th>refseq_category</th><th>taxid</th><th>species_taxid</th><th>organism_name</th><th>infraspecific_name</th><th>isolate</th><th>version_status</th><th>assembly_level</th><th>release_type</th><th>genome_rep</th><th>seq_rel_date</th><th>asm_name</th><th>submitter</th><th>gbrs_paired_asm</th><th>paired_asm_comp</th><th>ftp_path</th><th>excluded_from_refseq</th><th>relation_to_type_material</th></tr><tr><th></th><th>String</th><th>String</th><th>String</th><th>String</th><th>String</th><th>Int64</th><th>Int64</th><th>String</th><th>String</th><th>String</th><th>String</th><th>String</th><th>String</th><th>String</th><th>String</th><th>String</th><th>String</th><th>String</th><th>String</th><th>String</th><th>String</th><th>String</th></tr></thead><tbody><p>6 rows × 22 columns</p><tr><th>1</th><td>GCF_000001215.4</td><td>PRJNA164</td><td>SAMN02803731</td><td></td><td>reference genome</td><td>7227</td><td>7227</td><td>Drosophila melanogaster</td><td></td><td></td><td>latest</td><td>Chromosome</td><td>Major</td><td>Full</td><td>2014/08/01</td><td>Release 6 plus ISO1 MT</td><td>The FlyBase Consortium/Berkeley Drosophila Genome Project/Celera Genomics</td><td>GCA_000001215.4</td><td>identical</td><td>ftp://ftp.ncbi.nlm.nih.gov/genomes/all/GCF/000/001/215/GCF_000001215.4_Release_6_plus_ISO1_MT</td><td></td><td></td></tr><tr><th>2</th><td>GCF_000001405.39</td><td>PRJNA168</td><td></td><td></td><td>reference genome</td><td>9606</td><td>9606</td><td>Homo sapiens</td><td></td><td></td><td>latest</td><td>Chromosome</td><td>Patch</td><td>Full</td><td>2019/02/28</td><td>GRCh38.p13</td><td>Genome Reference Consortium</td><td>GCA_000001405.28</td><td>different</td><td>ftp://ftp.ncbi.nlm.nih.gov/genomes/all/GCF/000/001/405/GCF_000001405.39_GRCh38.p13</td><td></td><td></td></tr><tr><th>3</th><td>GCF_000001635.26</td><td>PRJNA169</td><td></td><td></td><td>reference genome</td><td>10090</td><td>10090</td><td>Mus musculus</td><td></td><td></td><td>latest</td><td>Chromosome</td><td>Patch</td><td>Full</td><td>2017/09/15</td><td>GRCm38.p6</td><td>Genome Reference Consortium</td><td>GCA_000001635.8</td><td>identical</td><td>ftp://ftp.ncbi.nlm.nih.gov/genomes/all/GCF/000/001/635/GCF_000001635.26_GRCm38.p6</td><td></td><td></td></tr><tr><th>4</th><td>GCF_000001735.4</td><td>PRJNA116</td><td>SAMN03081427</td><td></td><td>reference genome</td><td>3702</td><td>3702</td><td>Arabidopsis thaliana</td><td>ecotype=Columbia</td><td></td><td>latest</td><td>Chromosome</td><td>Minor</td><td>Full</td><td>2018/03/15</td><td>TAIR10.1</td><td>The Arabidopsis Information Resource (TAIR)</td><td>GCA_000001735.2</td><td>identical</td><td>ftp://ftp.ncbi.nlm.nih.gov/genomes/all/GCF/000/001/735/GCF_000001735.4_TAIR10.1</td><td></td><td></td></tr><tr><th>5</th><td>GCF_000002035.6</td><td>PRJNA13922</td><td>SAMN06930106</td><td></td><td>reference genome</td><td>7955</td><td>7955</td><td>Danio rerio</td><td></td><td></td><td>latest</td><td>Chromosome</td><td>Major</td><td>Full</td><td>2017/05/09</td><td>GRCz11</td><td>Genome Reference Consortium</td><td>GCA_000002035.4</td><td>different</td><td>ftp://ftp.ncbi.nlm.nih.gov/genomes/all/GCF/000/002/035/GCF_000002035.6_GRCz11</td><td></td><td></td></tr><tr><th>6</th><td>GCF_000002985.6</td><td>PRJNA158</td><td>SAMEA3138177</td><td></td><td>reference genome</td><td>6239</td><td>6239</td><td>Caenorhabditis elegans</td><td>strain=Bristol N2</td><td></td><td>latest</td><td>Complete Genome</td><td>Major</td><td>Full</td><td>2013/02/07</td><td>WBcel235</td><td>C. elegans Sequencing Consortium</td><td>GCA_000002985.3</td><td>different</td><td>ftp://ftp.ncbi.nlm.nih.gov/genomes/all/GCF/000/002/985/GCF_000002985.6_WBcel235</td><td></td><td></td></tr></tbody></table>"
      ],
      "text/latex": [
       "\\begin{tabular}{r|cccccccccccccccccccccc}\n",
       "\t& \\# assembly\\_accession & bioproject & biosample & wgs\\_master & refseq\\_category & taxid & species\\_taxid & organism\\_name & infraspecific\\_name & isolate & version\\_status & assembly\\_level & release\\_type & genome\\_rep & seq\\_rel\\_date & asm\\_name & submitter & gbrs\\_paired\\_asm & paired\\_asm\\_comp & ftp\\_path & excluded\\_from\\_refseq & relation\\_to\\_type\\_material\\\\\n",
       "\t\\hline\n",
       "\t& String & String & String & String & String & Int64 & Int64 & String & String & String & String & String & String & String & String & String & String & String & String & String & String & String\\\\\n",
       "\t\\hline\n",
       "\t1 & GCF\\_000001215.4 & PRJNA164 & SAMN02803731 &  & reference genome & 7227 & 7227 & Drosophila melanogaster &  &  & latest & Chromosome & Major & Full & 2014/08/01 & Release 6 plus ISO1 MT & The FlyBase Consortium/Berkeley Drosophila Genome Project/Celera Genomics & GCA\\_000001215.4 & identical & ftp://ftp.ncbi.nlm.nih.gov/genomes/all/GCF/000/001/215/GCF\\_000001215.4\\_Release\\_6\\_plus\\_ISO1\\_MT &  &  \\\\\n",
       "\t2 & GCF\\_000001405.39 & PRJNA168 &  &  & reference genome & 9606 & 9606 & Homo sapiens &  &  & latest & Chromosome & Patch & Full & 2019/02/28 & GRCh38.p13 & Genome Reference Consortium & GCA\\_000001405.28 & different & ftp://ftp.ncbi.nlm.nih.gov/genomes/all/GCF/000/001/405/GCF\\_000001405.39\\_GRCh38.p13 &  &  \\\\\n",
       "\t3 & GCF\\_000001635.26 & PRJNA169 &  &  & reference genome & 10090 & 10090 & Mus musculus &  &  & latest & Chromosome & Patch & Full & 2017/09/15 & GRCm38.p6 & Genome Reference Consortium & GCA\\_000001635.8 & identical & ftp://ftp.ncbi.nlm.nih.gov/genomes/all/GCF/000/001/635/GCF\\_000001635.26\\_GRCm38.p6 &  &  \\\\\n",
       "\t4 & GCF\\_000001735.4 & PRJNA116 & SAMN03081427 &  & reference genome & 3702 & 3702 & Arabidopsis thaliana & ecotype=Columbia &  & latest & Chromosome & Minor & Full & 2018/03/15 & TAIR10.1 & The Arabidopsis Information Resource (TAIR) & GCA\\_000001735.2 & identical & ftp://ftp.ncbi.nlm.nih.gov/genomes/all/GCF/000/001/735/GCF\\_000001735.4\\_TAIR10.1 &  &  \\\\\n",
       "\t5 & GCF\\_000002035.6 & PRJNA13922 & SAMN06930106 &  & reference genome & 7955 & 7955 & Danio rerio &  &  & latest & Chromosome & Major & Full & 2017/05/09 & GRCz11 & Genome Reference Consortium & GCA\\_000002035.4 & different & ftp://ftp.ncbi.nlm.nih.gov/genomes/all/GCF/000/002/035/GCF\\_000002035.6\\_GRCz11 &  &  \\\\\n",
       "\t6 & GCF\\_000002985.6 & PRJNA158 & SAMEA3138177 &  & reference genome & 6239 & 6239 & Caenorhabditis elegans & strain=Bristol N2 &  & latest & Complete Genome & Major & Full & 2013/02/07 & WBcel235 & C. elegans Sequencing Consortium & GCA\\_000002985.3 & different & ftp://ftp.ncbi.nlm.nih.gov/genomes/all/GCF/000/002/985/GCF\\_000002985.6\\_WBcel235 &  &  \\\\\n",
       "\\end{tabular}\n"
      ],
      "text/plain": [
       "6×22 DataFrame. Omitted printing of 18 columns\n",
       "│ Row │ # assembly_accession │ bioproject │ biosample    │ wgs_master │\n",
       "│     │ \u001b[90mString\u001b[39m               │ \u001b[90mString\u001b[39m     │ \u001b[90mString\u001b[39m       │ \u001b[90mString\u001b[39m     │\n",
       "├─────┼──────────────────────┼────────────┼──────────────┼────────────┤\n",
       "│ 1   │ GCF_000001215.4      │ PRJNA164   │ SAMN02803731 │            │\n",
       "│ 2   │ GCF_000001405.39     │ PRJNA168   │              │            │\n",
       "│ 3   │ GCF_000001635.26     │ PRJNA169   │              │            │\n",
       "│ 4   │ GCF_000001735.4      │ PRJNA116   │ SAMN03081427 │            │\n",
       "│ 5   │ GCF_000002035.6      │ PRJNA13922 │ SAMN06930106 │            │\n",
       "│ 6   │ GCF_000002985.6      │ PRJNA158   │ SAMEA3138177 │            │"
      ]
     },
     "execution_count": 4,
     "metadata": {},
     "output_type": "execute_result"
    }
   ],
   "source": [
    "refseq_metadata = DataFrame(uCSV.read(\"../_data/assembly_summary_refseq.txt\", delim=\"\\t\", header=2))\n",
    "reference_metadata = \n",
    "    refseq_metadata[\n",
    "        (refseq_metadata[:version_status] .== \"latest\") .&\n",
    "        (refseq_metadata[:genome_rep] .== \"Full\") .&\n",
    "        (refseq_metadata[:refseq_category] .== \"reference genome\")\n",
    "        , :]\n",
    "first(reference_metadata, 6)"
   ]
  },
  {
   "cell_type": "markdown",
   "metadata": {},
   "source": [
    "get node id, rank, and division ID from nodes.dmp"
   ]
  },
  {
   "cell_type": "code",
   "execution_count": 5,
   "metadata": {},
   "outputs": [
    {
     "data": {
      "text/html": [
       "<table class=\"data-frame\"><thead><tr><th></th><th>tax_id</th><th>rank</th><th>division_id</th></tr><tr><th></th><th>Int64</th><th>String</th><th>Int64</th></tr></thead><tbody><p>6 rows × 3 columns</p><tr><th>1</th><td>1</td><td>no rank</td><td>8</td></tr><tr><th>2</th><td>2</td><td>superkingdom</td><td>0</td></tr><tr><th>3</th><td>6</td><td>genus</td><td>0</td></tr><tr><th>4</th><td>7</td><td>species</td><td>0</td></tr><tr><th>5</th><td>9</td><td>species</td><td>0</td></tr><tr><th>6</th><td>10</td><td>genus</td><td>0</td></tr></tbody></table>"
      ],
      "text/latex": [
       "\\begin{tabular}{r|ccc}\n",
       "\t& tax\\_id & rank & division\\_id\\\\\n",
       "\t\\hline\n",
       "\t& Int64 & String & Int64\\\\\n",
       "\t\\hline\n",
       "\t1 & 1 & no rank & 8 \\\\\n",
       "\t2 & 2 & superkingdom & 0 \\\\\n",
       "\t3 & 6 & genus & 0 \\\\\n",
       "\t4 & 7 & species & 0 \\\\\n",
       "\t5 & 9 & species & 0 \\\\\n",
       "\t6 & 10 & genus & 0 \\\\\n",
       "\\end{tabular}\n"
      ],
      "text/plain": [
       "6×3 DataFrame\n",
       "│ Row │ tax_id │ rank         │ division_id │\n",
       "│     │ \u001b[90mInt64\u001b[39m  │ \u001b[90mString\u001b[39m       │ \u001b[90mInt64\u001b[39m       │\n",
       "├─────┼────────┼──────────────┼─────────────┤\n",
       "│ 1   │ 1      │ no rank      │ 8           │\n",
       "│ 2   │ 2      │ superkingdom │ 0           │\n",
       "│ 3   │ 6      │ genus        │ 0           │\n",
       "│ 4   │ 7      │ species      │ 0           │\n",
       "│ 5   │ 9      │ species      │ 0           │\n",
       "│ 6   │ 10     │ genus        │ 0           │"
      ]
     },
     "execution_count": 5,
     "metadata": {},
     "output_type": "execute_result"
    }
   ],
   "source": [
    "columns = first(uCSV.read(\"../_data/taxonomy/nodes.dmp\", delim=\"|\", trimwhitespace=true))[[1, 3, 5]]\n",
    "column_names = [:tax_id, :rank, :division_id]\n",
    "nodes = DataFrame(columns, column_names)\n",
    "first(nodes, 6)"
   ]
  },
  {
   "cell_type": "markdown",
   "metadata": {},
   "source": [
    "get scientific name from names.dmp\n",
    "\n",
    "- 1 => tax_id\n",
    "- 2 => name\n",
    "- 4 => name_class\n",
    "\n",
    "drop extra info columns and only keep columns mapping species name and ID"
   ]
  },
  {
   "cell_type": "code",
   "execution_count": 6,
   "metadata": {},
   "outputs": [
    {
     "data": {
      "text/html": [
       "<table class=\"data-frame\"><thead><tr><th></th><th>tax_id</th><th>name</th><th>name_class</th></tr><tr><th></th><th>Int64</th><th>String</th><th>String</th></tr></thead><tbody><p>6 rows × 3 columns</p><tr><th>1</th><td>1</td><td>root</td><td>scientific name</td></tr><tr><th>2</th><td>2</td><td>Bacteria</td><td>scientific name</td></tr><tr><th>3</th><td>6</td><td>Azorhizobium</td><td>scientific name</td></tr><tr><th>4</th><td>7</td><td>Azorhizobium caulinodans</td><td>scientific name</td></tr><tr><th>5</th><td>9</td><td>Buchnera aphidicola</td><td>scientific name</td></tr><tr><th>6</th><td>10</td><td>Cellvibrio</td><td>scientific name</td></tr></tbody></table>"
      ],
      "text/latex": [
       "\\begin{tabular}{r|ccc}\n",
       "\t& tax\\_id & name & name\\_class\\\\\n",
       "\t\\hline\n",
       "\t& Int64 & String & String\\\\\n",
       "\t\\hline\n",
       "\t1 & 1 & root & scientific name \\\\\n",
       "\t2 & 2 & Bacteria & scientific name \\\\\n",
       "\t3 & 6 & Azorhizobium & scientific name \\\\\n",
       "\t4 & 7 & Azorhizobium caulinodans & scientific name \\\\\n",
       "\t5 & 9 & Buchnera aphidicola & scientific name \\\\\n",
       "\t6 & 10 & Cellvibrio & scientific name \\\\\n",
       "\\end{tabular}\n"
      ],
      "text/plain": [
       "6×3 DataFrame\n",
       "│ Row │ tax_id │ name                     │ name_class      │\n",
       "│     │ \u001b[90mInt64\u001b[39m  │ \u001b[90mString\u001b[39m                   │ \u001b[90mString\u001b[39m          │\n",
       "├─────┼────────┼──────────────────────────┼─────────────────┤\n",
       "│ 1   │ 1      │ root                     │ scientific name │\n",
       "│ 2   │ 2      │ Bacteria                 │ scientific name │\n",
       "│ 3   │ 6      │ Azorhizobium             │ scientific name │\n",
       "│ 4   │ 7      │ Azorhizobium caulinodans │ scientific name │\n",
       "│ 5   │ 9      │ Buchnera aphidicola      │ scientific name │\n",
       "│ 6   │ 10     │ Cellvibrio               │ scientific name │"
      ]
     },
     "execution_count": 6,
     "metadata": {},
     "output_type": "execute_result"
    }
   ],
   "source": [
    "columns = first(uCSV.read(\"../_data/taxonomy/names.dmp\", delim='|', trimwhitespace=true))[[1, 2, 4]]\n",
    "column_names = [:tax_id, :name, :name_class]\n",
    "names = DataFrame(columns, column_names)\n",
    "names = names[names[:name_class] .== \"scientific name\", :]\n",
    "first(names, 6)"
   ]
  },
  {
   "cell_type": "markdown",
   "metadata": {},
   "source": [
    "get division name from division.dmp\n",
    "\n",
    "- division_id => 1\n",
    "- division_code => 2\n",
    "- division_name => 3"
   ]
  },
  {
   "cell_type": "code",
   "execution_count": 7,
   "metadata": {},
   "outputs": [
    {
     "data": {
      "text/html": [
       "<table class=\"data-frame\"><thead><tr><th></th><th>division_id</th><th>division_code</th><th>division_name</th></tr><tr><th></th><th>Int64</th><th>String</th><th>String</th></tr></thead><tbody><p>6 rows × 3 columns</p><tr><th>1</th><td>0</td><td>BCT</td><td>Bacteria</td></tr><tr><th>2</th><td>1</td><td>INV</td><td>Invertebrates</td></tr><tr><th>3</th><td>2</td><td>MAM</td><td>Mammals</td></tr><tr><th>4</th><td>3</td><td>PHG</td><td>Phages</td></tr><tr><th>5</th><td>4</td><td>PLN</td><td>Plants and Fungi</td></tr><tr><th>6</th><td>5</td><td>PRI</td><td>Primates</td></tr></tbody></table>"
      ],
      "text/latex": [
       "\\begin{tabular}{r|ccc}\n",
       "\t& division\\_id & division\\_code & division\\_name\\\\\n",
       "\t\\hline\n",
       "\t& Int64 & String & String\\\\\n",
       "\t\\hline\n",
       "\t1 & 0 & BCT & Bacteria \\\\\n",
       "\t2 & 1 & INV & Invertebrates \\\\\n",
       "\t3 & 2 & MAM & Mammals \\\\\n",
       "\t4 & 3 & PHG & Phages \\\\\n",
       "\t5 & 4 & PLN & Plants and Fungi \\\\\n",
       "\t6 & 5 & PRI & Primates \\\\\n",
       "\\end{tabular}\n"
      ],
      "text/plain": [
       "6×3 DataFrame\n",
       "│ Row │ division_id │ division_code │ division_name    │\n",
       "│     │ \u001b[90mInt64\u001b[39m       │ \u001b[90mString\u001b[39m        │ \u001b[90mString\u001b[39m           │\n",
       "├─────┼─────────────┼───────────────┼──────────────────┤\n",
       "│ 1   │ 0           │ BCT           │ Bacteria         │\n",
       "│ 2   │ 1           │ INV           │ Invertebrates    │\n",
       "│ 3   │ 2           │ MAM           │ Mammals          │\n",
       "│ 4   │ 3           │ PHG           │ Phages           │\n",
       "│ 5   │ 4           │ PLN           │ Plants and Fungi │\n",
       "│ 6   │ 5           │ PRI           │ Primates         │"
      ]
     },
     "execution_count": 7,
     "metadata": {},
     "output_type": "execute_result"
    }
   ],
   "source": [
    "columns = first(uCSV.read(\"../_data/taxonomy/division.dmp\", delim='|', trimwhitespace=true))[[1, 2, 3]]\n",
    "column_names = [:division_id, :division_code, :division_name]\n",
    "divisions = DataFrame(columns, column_names)\n",
    "first(divisions, 6)"
   ]
  },
  {
   "cell_type": "code",
   "execution_count": 8,
   "metadata": {},
   "outputs": [
    {
     "data": {
      "text/html": [
       "<table class=\"data-frame\"><thead><tr><th></th><th>tax_id</th><th>rank</th><th>division_id</th><th>name</th><th>name_class</th><th>division_code</th><th>division_name</th></tr><tr><th></th><th>Int64</th><th>String</th><th>Int64</th><th>String</th><th>String</th><th>String</th><th>String</th></tr></thead><tbody><p>6 rows × 7 columns</p><tr><th>1</th><td>1</td><td>no rank</td><td>8</td><td>root</td><td>scientific name</td><td>UNA</td><td>Unassigned</td></tr><tr><th>2</th><td>2</td><td>superkingdom</td><td>0</td><td>Bacteria</td><td>scientific name</td><td>BCT</td><td>Bacteria</td></tr><tr><th>3</th><td>6</td><td>genus</td><td>0</td><td>Azorhizobium</td><td>scientific name</td><td>BCT</td><td>Bacteria</td></tr><tr><th>4</th><td>7</td><td>species</td><td>0</td><td>Azorhizobium caulinodans</td><td>scientific name</td><td>BCT</td><td>Bacteria</td></tr><tr><th>5</th><td>9</td><td>species</td><td>0</td><td>Buchnera aphidicola</td><td>scientific name</td><td>BCT</td><td>Bacteria</td></tr><tr><th>6</th><td>10</td><td>genus</td><td>0</td><td>Cellvibrio</td><td>scientific name</td><td>BCT</td><td>Bacteria</td></tr></tbody></table>"
      ],
      "text/latex": [
       "\\begin{tabular}{r|ccccccc}\n",
       "\t& tax\\_id & rank & division\\_id & name & name\\_class & division\\_code & division\\_name\\\\\n",
       "\t\\hline\n",
       "\t& Int64 & String & Int64 & String & String & String & String\\\\\n",
       "\t\\hline\n",
       "\t1 & 1 & no rank & 8 & root & scientific name & UNA & Unassigned \\\\\n",
       "\t2 & 2 & superkingdom & 0 & Bacteria & scientific name & BCT & Bacteria \\\\\n",
       "\t3 & 6 & genus & 0 & Azorhizobium & scientific name & BCT & Bacteria \\\\\n",
       "\t4 & 7 & species & 0 & Azorhizobium caulinodans & scientific name & BCT & Bacteria \\\\\n",
       "\t5 & 9 & species & 0 & Buchnera aphidicola & scientific name & BCT & Bacteria \\\\\n",
       "\t6 & 10 & genus & 0 & Cellvibrio & scientific name & BCT & Bacteria \\\\\n",
       "\\end{tabular}\n"
      ],
      "text/plain": [
       "6×7 DataFrame. Omitted printing of 3 columns\n",
       "│ Row │ tax_id │ rank         │ division_id │ name                     │\n",
       "│     │ \u001b[90mInt64\u001b[39m  │ \u001b[90mString\u001b[39m       │ \u001b[90mInt64\u001b[39m       │ \u001b[90mString\u001b[39m                   │\n",
       "├─────┼────────┼──────────────┼─────────────┼──────────────────────────┤\n",
       "│ 1   │ 1      │ no rank      │ 8           │ root                     │\n",
       "│ 2   │ 2      │ superkingdom │ 0           │ Bacteria                 │\n",
       "│ 3   │ 6      │ genus        │ 0           │ Azorhizobium             │\n",
       "│ 4   │ 7      │ species      │ 0           │ Azorhizobium caulinodans │\n",
       "│ 5   │ 9      │ species      │ 0           │ Buchnera aphidicola      │\n",
       "│ 6   │ 10     │ genus        │ 0           │ Cellvibrio               │"
      ]
     },
     "execution_count": 8,
     "metadata": {},
     "output_type": "execute_result"
    }
   ],
   "source": [
    "taxonomy_info = join(join(nodes, names; on = :tax_id, kind = :inner), divisions, on = :division_id, kind = :inner)\n",
    "first(taxonomy_info, 6)"
   ]
  },
  {
   "cell_type": "code",
   "execution_count": 9,
   "metadata": {},
   "outputs": [
    {
     "data": {
      "text/html": [
       "<table class=\"data-frame\"><thead><tr><th></th><th>tax_id</th><th>rank</th><th>division_id</th><th>name</th><th>name_class</th><th>division_code</th><th>division_name</th><th># assembly_accession</th><th>bioproject</th><th>biosample</th><th>wgs_master</th><th>refseq_category</th><th>taxid</th><th>organism_name</th><th>infraspecific_name</th><th>isolate</th><th>version_status</th><th>assembly_level</th><th>release_type</th><th>genome_rep</th><th>seq_rel_date</th><th>asm_name</th><th>submitter</th><th>gbrs_paired_asm</th><th>paired_asm_comp</th><th>ftp_path</th><th>excluded_from_refseq</th><th>relation_to_type_material</th></tr><tr><th></th><th>Int64</th><th>String</th><th>Int64</th><th>String</th><th>String</th><th>String</th><th>String</th><th>String</th><th>String</th><th>String</th><th>String</th><th>String</th><th>Int64</th><th>String</th><th>String</th><th>String</th><th>String</th><th>String</th><th>String</th><th>String</th><th>String</th><th>String</th><th>String</th><th>String</th><th>String</th><th>String</th><th>String</th><th>String</th></tr></thead><tbody><p>6 rows × 28 columns</p><tr><th>1</th><td>9</td><td>species</td><td>0</td><td>Buchnera aphidicola</td><td>scientific name</td><td>BCT</td><td>Bacteria</td><td>GCF_000009605.1</td><td>PRJNA57805</td><td>SAMD00061095</td><td></td><td>reference genome</td><td>107806</td><td>Buchnera aphidicola str. APS (Acyrthosiphon pisum)</td><td>strain=APS</td><td>Tokyo1998</td><td>latest</td><td>Complete Genome</td><td>Major</td><td>Full</td><td>2004/05/11</td><td>ASM960v1</td><td>Rikken GSC</td><td>GCA_000009605.1</td><td>identical</td><td>ftp://ftp.ncbi.nlm.nih.gov/genomes/all/GCF/000/009/605/GCF_000009605.1_ASM960v1</td><td></td><td></td></tr><tr><th>2</th><td>139</td><td>species</td><td>0</td><td>Borreliella burgdorferi</td><td>scientific name</td><td>BCT</td><td>Bacteria</td><td>GCF_000008685.2</td><td>PRJNA57581</td><td>SAMN02603966</td><td></td><td>reference genome</td><td>224326</td><td>Borreliella burgdorferi B31</td><td>strain=B31</td><td></td><td>latest</td><td>Complete Genome</td><td>Major</td><td>Full</td><td>2011/11/09</td><td>ASM868v2</td><td>TIGR</td><td>GCA_000008685.2</td><td>identical</td><td>ftp://ftp.ncbi.nlm.nih.gov/genomes/all/GCF/000/008/685/GCF_000008685.2_ASM868v2</td><td></td><td>assembly from type material</td></tr><tr><th>3</th><td>158</td><td>species</td><td>0</td><td>Treponema denticola</td><td>scientific name</td><td>BCT</td><td>Bacteria</td><td>GCF_000008185.1</td><td>PRJNA57583</td><td>SAMN02603967</td><td></td><td>reference genome</td><td>243275</td><td>Treponema denticola ATCC 35405</td><td>strain=ATCC 35405</td><td></td><td>latest</td><td>Complete Genome</td><td>Major</td><td>Full</td><td>2004/02/03</td><td>ASM818v1</td><td>TIGR</td><td>GCA_000008185.1</td><td>identical</td><td>ftp://ftp.ncbi.nlm.nih.gov/genomes/all/GCF/000/008/185/GCF_000008185.1_ASM818v1</td><td></td><td>assembly from type material</td></tr><tr><th>4</th><td>173</td><td>species</td><td>0</td><td>Leptospira interrogans</td><td>scientific name</td><td>BCT</td><td>Bacteria</td><td>GCF_000092565.1</td><td>PRJNA57881</td><td>SAMN02603127</td><td></td><td>reference genome</td><td>189518</td><td>Leptospira interrogans serovar Lai str. 56601</td><td>strain=56601</td><td></td><td>latest</td><td>Complete Genome</td><td>Major</td><td>Full</td><td>2010/04/06</td><td>ASM9256v1</td><td>Chinese National HGC, Shanghai</td><td>GCA_000092565.1</td><td>identical</td><td>ftp://ftp.ncbi.nlm.nih.gov/genomes/all/GCF/000/092/565/GCF_000092565.1_ASM9256v1</td><td></td><td></td></tr><tr><th>5</th><td>197</td><td>species</td><td>0</td><td>Campylobacter jejuni</td><td>scientific name</td><td>BCT</td><td>Bacteria</td><td>GCF_000009085.1</td><td>PRJNA57587</td><td>SAMEA1705929</td><td></td><td>reference genome</td><td>192222</td><td>Campylobacter jejuni subsp. jejuni NCTC 11168 = ATCC 700819</td><td>strain=NCTC 11168</td><td></td><td>latest</td><td>Complete Genome</td><td>Major</td><td>Full</td><td>2003/05/06</td><td>ASM908v1</td><td>Sanger Institute</td><td>GCA_000009085.1</td><td>identical</td><td>ftp://ftp.ncbi.nlm.nih.gov/genomes/all/GCF/000/009/085/GCF_000009085.1_ASM908v1</td><td></td><td></td></tr><tr><th>6</th><td>210</td><td>species</td><td>0</td><td>Helicobacter pylori</td><td>scientific name</td><td>BCT</td><td>Bacteria</td><td>GCF_000008525.1</td><td>PRJNA57787</td><td>SAMN02603995</td><td></td><td>reference genome</td><td>85962</td><td>Helicobacter pylori 26695</td><td>strain=26695</td><td></td><td>latest</td><td>Complete Genome</td><td>Major</td><td>Full</td><td>1999/12/22</td><td>ASM852v1</td><td>TIGR</td><td>GCA_000008525.1</td><td>identical</td><td>ftp://ftp.ncbi.nlm.nih.gov/genomes/all/GCF/000/008/525/GCF_000008525.1_ASM852v1</td><td></td><td></td></tr></tbody></table>"
      ],
      "text/latex": [
       "\\begin{tabular}{r|cccccccccccccccccccccccccccc}\n",
       "\t& tax\\_id & rank & division\\_id & name & name\\_class & division\\_code & division\\_name & \\# assembly\\_accession & bioproject & biosample & wgs\\_master & refseq\\_category & taxid & organism\\_name & infraspecific\\_name & isolate & version\\_status & assembly\\_level & release\\_type & genome\\_rep & seq\\_rel\\_date & asm\\_name & submitter & gbrs\\_paired\\_asm & paired\\_asm\\_comp & ftp\\_path & excluded\\_from\\_refseq & relation\\_to\\_type\\_material\\\\\n",
       "\t\\hline\n",
       "\t& Int64 & String & Int64 & String & String & String & String & String & String & String & String & String & Int64 & String & String & String & String & String & String & String & String & String & String & String & String & String & String & String\\\\\n",
       "\t\\hline\n",
       "\t1 & 9 & species & 0 & Buchnera aphidicola & scientific name & BCT & Bacteria & GCF\\_000009605.1 & PRJNA57805 & SAMD00061095 &  & reference genome & 107806 & Buchnera aphidicola str. APS (Acyrthosiphon pisum) & strain=APS & Tokyo1998 & latest & Complete Genome & Major & Full & 2004/05/11 & ASM960v1 & Rikken GSC & GCA\\_000009605.1 & identical & ftp://ftp.ncbi.nlm.nih.gov/genomes/all/GCF/000/009/605/GCF\\_000009605.1\\_ASM960v1 &  &  \\\\\n",
       "\t2 & 139 & species & 0 & Borreliella burgdorferi & scientific name & BCT & Bacteria & GCF\\_000008685.2 & PRJNA57581 & SAMN02603966 &  & reference genome & 224326 & Borreliella burgdorferi B31 & strain=B31 &  & latest & Complete Genome & Major & Full & 2011/11/09 & ASM868v2 & TIGR & GCA\\_000008685.2 & identical & ftp://ftp.ncbi.nlm.nih.gov/genomes/all/GCF/000/008/685/GCF\\_000008685.2\\_ASM868v2 &  & assembly from type material \\\\\n",
       "\t3 & 158 & species & 0 & Treponema denticola & scientific name & BCT & Bacteria & GCF\\_000008185.1 & PRJNA57583 & SAMN02603967 &  & reference genome & 243275 & Treponema denticola ATCC 35405 & strain=ATCC 35405 &  & latest & Complete Genome & Major & Full & 2004/02/03 & ASM818v1 & TIGR & GCA\\_000008185.1 & identical & ftp://ftp.ncbi.nlm.nih.gov/genomes/all/GCF/000/008/185/GCF\\_000008185.1\\_ASM818v1 &  & assembly from type material \\\\\n",
       "\t4 & 173 & species & 0 & Leptospira interrogans & scientific name & BCT & Bacteria & GCF\\_000092565.1 & PRJNA57881 & SAMN02603127 &  & reference genome & 189518 & Leptospira interrogans serovar Lai str. 56601 & strain=56601 &  & latest & Complete Genome & Major & Full & 2010/04/06 & ASM9256v1 & Chinese National HGC, Shanghai & GCA\\_000092565.1 & identical & ftp://ftp.ncbi.nlm.nih.gov/genomes/all/GCF/000/092/565/GCF\\_000092565.1\\_ASM9256v1 &  &  \\\\\n",
       "\t5 & 197 & species & 0 & Campylobacter jejuni & scientific name & BCT & Bacteria & GCF\\_000009085.1 & PRJNA57587 & SAMEA1705929 &  & reference genome & 192222 & Campylobacter jejuni subsp. jejuni NCTC 11168 = ATCC 700819 & strain=NCTC 11168 &  & latest & Complete Genome & Major & Full & 2003/05/06 & ASM908v1 & Sanger Institute & GCA\\_000009085.1 & identical & ftp://ftp.ncbi.nlm.nih.gov/genomes/all/GCF/000/009/085/GCF\\_000009085.1\\_ASM908v1 &  &  \\\\\n",
       "\t6 & 210 & species & 0 & Helicobacter pylori & scientific name & BCT & Bacteria & GCF\\_000008525.1 & PRJNA57787 & SAMN02603995 &  & reference genome & 85962 & Helicobacter pylori 26695 & strain=26695 &  & latest & Complete Genome & Major & Full & 1999/12/22 & ASM852v1 & TIGR & GCA\\_000008525.1 & identical & ftp://ftp.ncbi.nlm.nih.gov/genomes/all/GCF/000/008/525/GCF\\_000008525.1\\_ASM852v1 &  &  \\\\\n",
       "\\end{tabular}\n"
      ],
      "text/plain": [
       "6×28 DataFrame. Omitted printing of 24 columns\n",
       "│ Row │ tax_id │ rank    │ division_id │ name                    │\n",
       "│     │ \u001b[90mInt64\u001b[39m  │ \u001b[90mString\u001b[39m  │ \u001b[90mInt64\u001b[39m       │ \u001b[90mString\u001b[39m                  │\n",
       "├─────┼────────┼─────────┼─────────────┼─────────────────────────┤\n",
       "│ 1   │ 9      │ species │ 0           │ Buchnera aphidicola     │\n",
       "│ 2   │ 139    │ species │ 0           │ Borreliella burgdorferi │\n",
       "│ 3   │ 158    │ species │ 0           │ Treponema denticola     │\n",
       "│ 4   │ 173    │ species │ 0           │ Leptospira interrogans  │\n",
       "│ 5   │ 197    │ species │ 0           │ Campylobacter jejuni    │\n",
       "│ 6   │ 210    │ species │ 0           │ Helicobacter pylori     │"
      ]
     },
     "execution_count": 9,
     "metadata": {},
     "output_type": "execute_result"
    }
   ],
   "source": [
    "merged = join(taxonomy_info, reference_metadata, on = (:tax_id => :species_taxid), kind=:inner)\n",
    "first(merged, 6)"
   ]
  },
  {
   "cell_type": "markdown",
   "metadata": {},
   "source": [
    "How many in each group?"
   ]
  },
  {
   "cell_type": "code",
   "execution_count": 10,
   "metadata": {},
   "outputs": [
    {
     "data": {
      "text/plain": [
       "Dict{String,Int64} with 8 entries:\n",
       "  \"Bacteria\"         => 120\n",
       "  \"Rodents\"          => 1\n",
       "  \"Vertebrates\"      => 1\n",
       "  \"Primates\"         => 1\n",
       "  \"Invertebrates\"    => 2\n",
       "  \"Phages\"           => 5\n",
       "  \"Plants and Fungi\" => 2\n",
       "  \"Viruses\"          => 41"
      ]
     },
     "execution_count": 10,
     "metadata": {},
     "output_type": "execute_result"
    }
   ],
   "source": [
    "countmap(merged[:division_name])"
   ]
  },
  {
   "cell_type": "markdown",
   "metadata": {},
   "source": [
    "Randomly select one organism from each group of organisms"
   ]
  },
  {
   "cell_type": "code",
   "execution_count": 11,
   "metadata": {},
   "outputs": [
    {
     "name": "stdout",
     "output_type": "stream",
     "text": [
      "Bacteria \t\tFlavobacterium psychrophilum \t\tGCF_000064305.2_ASM6430v2_genomic.fna.gz\n",
      "Plants and Fungi\t\tArabidopsis thaliana\t\tGCF_000001735.4_TAIR10.1_genomic.fna.gz\n",
      "Plants and Fungi\t\tSaccharomyces cerevisiae\t\tGCF_000146045.2_R64_genomic.fna.gz\n",
      "Invertebrates\t\tCaenorhabditis elegans\t\tGCF_000002985.6_WBcel235_genomic.fna.gz\n",
      "Invertebrates\t\tDrosophila melanogaster\t\tGCF_000001215.4_Release_6_plus_ISO1_MT_genomic.fna.gz\n",
      "Vertebrates \t\tDanio rerio \t\tGCF_000002035.6_GRCz11_genomic.fna.gz\n",
      "Primates \t\tHomo sapiens \t\tGCF_000001405.39_GRCh38.p13_genomic.fna.gz\n",
      "Rodents \t\tMus musculus \t\tGCF_000001635.26_GRCm38.p6_genomic.fna.gz\n",
      "Phages \t\tChlamydia virus Chp2 \t\tGCF_000849665.1_ViralProj14593_genomic.fna.gz\n",
      "Viruses \t\tNorwalk virus \t\tGCF_000868425.1_ViralProj17577_genomic.fna.gz\n"
     ]
    }
   ],
   "source": [
    "Random.seed!(3)\n",
    "for division in unique(merged[:division_name])\n",
    "    if division == \"Plants and Fungi\" || division == \"Invertebrates\"\n",
    "        subset = merged[findall(merged[:division_name] .== division), :]\n",
    "        for row in eachrow(subset)\n",
    "            println(join([division, row[:name], basename(row[:ftp_path]) * \"_genomic.fna.gz\"], \"\\t\\t\"))\n",
    "        end\n",
    "    else\n",
    "        subset = merged[rand(findall(merged[:division_name] .== division)), :]\n",
    "        println(join([division, subset[:name], basename(subset[:ftp_path]) * \"_genomic.fna.gz\"], \" \\t\\t\"))\n",
    "    end\n",
    "end"
   ]
  },
  {
   "cell_type": "markdown",
   "metadata": {},
   "source": [
    "```bash\n",
    "# Phages \t\tChlamydia virus Chp2 \t\t\n",
    "FASTA=GCF_000849665.1_ViralProj14593_genomic.fna\n",
    "# all kmers >= k=17 are unique\n",
    "K_RANGE=\"7 11 13 17\"\n",
    "parallel Eisenia\\ stream-kmers\\ --k\\ \\{1\\}\\ --fasta\\ $FASTA.gz\\ \\|\\ sort\\ --temporary-directory\\ \\.\\ --compress-program\\ gzip \\|\\ uniq\\ --count\\ \\| gzip\\ \\>\\ $FASTA.K\\{1\\}.counts.gz ::: $K_RANGE\n",
    "parallel gzip\\ --decompress\\ --stdout\\ $FASTA.K\\{1\\}.counts.gz\\ \\|\\ awk\\ \\'\\{print\\ \\$1\\}\\'\\ \\|\\ sort\\ --numeric\\ \\|\\ uniq\\ --count\\ \\>\\ $FASTA.K\\{1\\}.counts.histogram ::: $K_RANGE\n",
    "parallel Eisenia\\ plot\\ histogram\\ --histogram\\ $FASTA.K\\{1\\}.counts.histogram ::: $K_RANGE\n",
    "```"
   ]
  },
  {
   "cell_type": "markdown",
   "metadata": {},
   "source": [
    "![](GCF_000849665.1_ViralProj14593_genomic.fna.K7.counts.histogram.svg)\n",
    "![](GCF_000849665.1_ViralProj14593_genomic.fna.K11.counts.histogram.svg)\n",
    "![](GCF_000849665.1_ViralProj14593_genomic.fna.K13.counts.histogram.svg)\n",
    "![](GCF_000849665.1_ViralProj14593_genomic.fna.K17.counts.histogram.svg)"
   ]
  },
  {
   "cell_type": "markdown",
   "metadata": {},
   "source": [
    "```bash\n",
    "# Viruses \t\tNorwalk virus\n",
    "FASTA=GCF_000868425.1_ViralProj17577_genomic.fna\n",
    "# all kmers >= k=17 are unique\n",
    "K_RANGE=\"7 11 13 17\"\n",
    "parallel Eisenia\\ stream-kmers\\ --k\\ \\{1\\}\\ --fasta\\ $FASTA.gz\\ \\|\\ sort\\ --temporary-directory\\ \\.\\ --compress-program\\ gzip \\|\\ uniq\\ --count\\ \\| gzip\\ \\>\\ $FASTA.K\\{1\\}.counts.gz ::: $K_RANGE\n",
    "parallel gzip\\ --decompress\\ --stdout\\ $FASTA.K\\{1\\}.counts.gz\\ \\|\\ awk\\ \\'\\{print\\ \\$1\\}\\'\\ \\|\\ sort\\ --numeric\\ \\|\\ uniq\\ --count\\ \\>\\ $FASTA.K\\{1\\}.counts.histogram ::: $K_RANGE\n",
    "parallel Eisenia\\ plot\\ histogram\\ --histogram\\ $FASTA.K\\{1\\}.counts.histogram ::: $K_RANGE\n",
    "```"
   ]
  },
  {
   "cell_type": "markdown",
   "metadata": {},
   "source": [
    "![](GCF_000868425.1_ViralProj17577_genomic.fna.K7.counts.histogram.svg)\n",
    "![](GCF_000868425.1_ViralProj17577_genomic.fna.K11.counts.histogram.svg)\n",
    "![](GCF_000868425.1_ViralProj17577_genomic.fna.K13.counts.histogram.svg)\n",
    "![](GCF_000868425.1_ViralProj17577_genomic.fna.K17.counts.histogram.svg)"
   ]
  },
  {
   "cell_type": "markdown",
   "metadata": {},
   "source": [
    "```bash\n",
    "# Bacteria \t\tFlavobacterium psychrophilum\n",
    "FASTA=GCF_000064305.2_ASM6430v2_genomic.fna\n",
    "K_RANGE=\"7 11 13 17 19 23 29 31\"\n",
    "parallel Eisenia\\ stream-kmers\\ --k\\ \\{1\\}\\ --fasta\\ $FASTA.gz\\ \\|\\ sort\\ --temporary-directory\\ \\.\\ --compress-program\\ gzip \\|\\ uniq\\ --count\\ \\| gzip\\ \\>\\ $FASTA.K\\{1\\}.counts.gz ::: $K_RANGE\n",
    "parallel gzip\\ --decompress\\ --stdout\\ $FASTA.K\\{1\\}.counts.gz\\ \\|\\ awk\\ \\'\\{print\\ \\$1\\}\\'\\ \\|\\ sort\\ --numeric\\ \\|\\ uniq\\ --count\\ \\>\\ $FASTA.K\\{1\\}.counts.histogram ::: $K_RANGE\n",
    "parallel Eisenia\\ plot\\ histogram\\ --histogram\\ $FASTA.K\\{1\\}.counts.histogram ::: $K_RANGE\n",
    "```"
   ]
  },
  {
   "cell_type": "markdown",
   "metadata": {},
   "source": [
    "![](GCF_000064305.2_ASM6430v2_genomic.fna.K7.counts.histogram.svg)\n",
    "![](GCF_000064305.2_ASM6430v2_genomic.fna.K11.counts.histogram.svg)\n",
    "![](GCF_000064305.2_ASM6430v2_genomic.fna.K13.counts.histogram.svg)\n",
    "![](GCF_000064305.2_ASM6430v2_genomic.fna.K17.counts.histogram.svg)\n",
    "![](GCF_000064305.2_ASM6430v2_genomic.fna.K19.counts.histogram.svg)\n",
    "![](GCF_000064305.2_ASM6430v2_genomic.fna.K23.counts.histogram.svg)\n",
    "![](GCF_000064305.2_ASM6430v2_genomic.fna.K29.counts.histogram.svg)\n",
    "![](GCF_000064305.2_ASM6430v2_genomic.fna.K31.counts.histogram.svg)"
   ]
  },
  {
   "cell_type": "markdown",
   "metadata": {},
   "source": [
    "```bash\n",
    "# Plants and Fungi\t\tSaccharomyces cerevisiae\n",
    "FASTA=GCF_000146045.2_R64_genomic.fna\n",
    "K_RANGE=\"7 11 13 17 19 23 29 31\"\n",
    "parallel Eisenia\\ stream-kmers\\ --k\\ \\{1\\}\\ --fasta\\ $FASTA.gz\\ \\|\\ sort\\ --temporary-directory\\ \\.\\ --compress-program\\ gzip \\|\\ uniq\\ --count\\ \\| gzip\\ \\>\\ $FASTA.K\\{1\\}.counts.gz ::: $K_RANGE\n",
    "parallel gzip\\ --decompress\\ --stdout\\ $FASTA.K\\{1\\}.counts.gz\\ \\|\\ awk\\ \\'\\{print\\ \\$1\\}\\'\\ \\|\\ sort\\ --numeric\\ \\|\\ uniq\\ --count\\ \\>\\ $FASTA.K\\{1\\}.counts.histogram ::: $K_RANGE\n",
    "parallel Eisenia\\ plot\\ histogram\\ --histogram\\ $FASTA.K\\{1\\}.counts.histogram ::: $K_RANGE\n",
    "```"
   ]
  },
  {
   "cell_type": "markdown",
   "metadata": {},
   "source": [
    "![](GCF_000146045.2_R64_genomic.fna.K7.counts.histogram.svg)\n",
    "![](GCF_000146045.2_R64_genomic.fna.K11.counts.histogram.svg)\n",
    "![](GCF_000146045.2_R64_genomic.fna.K13.counts.histogram.svg)\n",
    "![](GCF_000146045.2_R64_genomic.fna.K17.counts.histogram.svg)\n",
    "![](GCF_000146045.2_R64_genomic.fna.K19.counts.histogram.svg)\n",
    "![](GCF_000146045.2_R64_genomic.fna.K23.counts.histogram.svg)\n",
    "![](GCF_000146045.2_R64_genomic.fna.K29.counts.histogram.svg)\n",
    "![](GCF_000146045.2_R64_genomic.fna.K31.counts.histogram.svg)"
   ]
  },
  {
   "cell_type": "markdown",
   "metadata": {},
   "source": [
    "```bash\n",
    "# Invertebrates\t\tCaenorhabditis elegans\n",
    "FASTA=GCF_000002985.6_WBcel235_genomic.fna\n",
    "K_RANGE=\"7 11 13 17 19 23 29 31\"\n",
    "parallel Eisenia\\ stream-kmers\\ --k\\ \\{1\\}\\ --fasta\\ $FASTA.gz\\ \\|\\ sort\\ --temporary-directory\\ \\.\\ --compress-program\\ gzip \\|\\ uniq\\ --count\\ \\| gzip\\ \\>\\ $FASTA.K\\{1\\}.counts.gz ::: $K_RANGE\n",
    "parallel gzip\\ --decompress\\ --stdout\\ $FASTA.K\\{1\\}.counts.gz\\ \\|\\ awk\\ \\'\\{print\\ \\$1\\}\\'\\ \\|\\ sort\\ --numeric\\ \\|\\ uniq\\ --count\\ \\>\\ $FASTA.K\\{1\\}.counts.histogram ::: $K_RANGE\n",
    "parallel Eisenia\\ plot\\ histogram\\ --histogram\\ $FASTA.K\\{1\\}.counts.histogram ::: $K_RANGE\n",
    "```"
   ]
  },
  {
   "cell_type": "markdown",
   "metadata": {},
   "source": [
    "![](GCF_000002985.6_WBcel235_genomic.fna.K7.counts.histogram.svg)\n",
    "![](GCF_000002985.6_WBcel235_genomic.fna.K11.counts.histogram.svg)\n",
    "![](GCF_000002985.6_WBcel235_genomic.fna.K13.counts.histogram.svg)\n",
    "![](GCF_000002985.6_WBcel235_genomic.fna.K17.counts.histogram.svg)\n",
    "![](GCF_000002985.6_WBcel235_genomic.fna.K19.counts.histogram.svg)\n",
    "![](GCF_000002985.6_WBcel235_genomic.fna.K23.counts.histogram.svg)\n",
    "![](GCF_000002985.6_WBcel235_genomic.fna.K29.counts.histogram.svg)\n",
    "![](GCF_000002985.6_WBcel235_genomic.fna.K31.counts.histogram.svg)"
   ]
  },
  {
   "cell_type": "markdown",
   "metadata": {},
   "source": [
    "```bash\n",
    "# Plants and Fungi\t\tArabidopsis thaliana\n",
    "FASTA=GCF_000001735.4_TAIR10.1_genomic.fna\n",
    "K_RANGE=\"7 11 13 17 19 23 29 31\"\n",
    "parallel Eisenia\\ stream-kmers\\ --k\\ \\{1\\}\\ --fasta\\ $FASTA.gz\\ \\|\\ sort\\ --temporary-directory\\ \\.\\ --compress-program\\ gzip \\|\\ uniq\\ --count\\ \\| gzip\\ \\>\\ $FASTA.K\\{1\\}.counts.gz ::: $K_RANGE\n",
    "parallel gzip\\ --decompress\\ --stdout\\ $FASTA.K\\{1\\}.counts.gz\\ \\|\\ awk\\ \\'\\{print\\ \\$1\\}\\'\\ \\|\\ sort\\ --numeric\\ \\|\\ uniq\\ --count\\ \\>\\ $FASTA.K\\{1\\}.counts.histogram ::: $K_RANGE\n",
    "parallel Eisenia\\ plot\\ histogram\\ --histogram\\ $FASTA.K\\{1\\}.counts.histogram ::: $K_RANGE\n",
    "```"
   ]
  },
  {
   "cell_type": "markdown",
   "metadata": {},
   "source": [
    "![](GCF_000001735.4_TAIR10.1_genomic.fna.K7.counts.histogram.svg)\n",
    "\n",
    "Something really interesting is happening here. Notice the two distributions that are present in the K=7 histogram graph? The first distribution is loglinear and the second distribution is lognormal. All previous gnomes in this group only have the second lognormal distribution. This is worth further investigation.\n",
    "\n",
    "![](GCF_000001735.4_TAIR10.1_genomic.fna.K11.counts.histogram.svg)\n",
    "![](GCF_000001735.4_TAIR10.1_genomic.fna.K13.counts.histogram.svg)\n",
    "![](GCF_000001735.4_TAIR10.1_genomic.fna.K17.counts.histogram.svg)\n",
    "![](GCF_000001735.4_TAIR10.1_genomic.fna.K19.counts.histogram.svg)\n",
    "![](GCF_000001735.4_TAIR10.1_genomic.fna.K23.counts.histogram.svg)\n",
    "![](GCF_000001735.4_TAIR10.1_genomic.fna.K29.counts.histogram.svg)\n",
    "![](GCF_000001735.4_TAIR10.1_genomic.fna.K31.counts.histogram.svg)"
   ]
  },
  {
   "cell_type": "markdown",
   "metadata": {},
   "source": [
    "```bash\n",
    "# Invertebrates\t\tDrosophila melanogaster\n",
    "FASTA=GCF_000001215.4_Release_6_plus_ISO1_MT_genomic.fna\n",
    "K_RANGE=\"7 11 13 17 19 23 29 31\"\n",
    "parallel Eisenia\\ stream-kmers\\ --k\\ \\{1\\}\\ --fasta\\ $FASTA.gz\\ \\|\\ sort\\ --temporary-directory\\ \\.\\ --compress-program\\ gzip \\|\\ uniq\\ --count\\ \\| gzip\\ \\>\\ $FASTA.K\\{1\\}.counts.gz ::: $K_RANGE\n",
    "parallel gzip\\ --decompress\\ --stdout\\ $FASTA.K\\{1\\}.counts.gz\\ \\|\\ awk\\ \\'\\{print\\ \\$1\\}\\'\\ \\|\\ sort\\ --numeric\\ \\|\\ uniq\\ --count\\ \\>\\ $FASTA.K\\{1\\}.counts.histogram ::: $K_RANGE\n",
    "parallel Eisenia\\ plot\\ histogram\\ --histogram\\ $FASTA.K\\{1\\}.counts.histogram ::: $K_RANGE\n",
    "```"
   ]
  },
  {
   "cell_type": "markdown",
   "metadata": {},
   "source": [
    "![](GCF_000001215.4_Release_6_plus_ISO1_MT_genomic.fna.K7.counts.histogram.svg)\n",
    "![](GCF_000001215.4_Release_6_plus_ISO1_MT_genomic.fna.K11.counts.histogram.svg)\n",
    "![](GCF_000001215.4_Release_6_plus_ISO1_MT_genomic.fna.K13.counts.histogram.svg)\n",
    "![](GCF_000001215.4_Release_6_plus_ISO1_MT_genomic.fna.K17.counts.histogram.svg)\n",
    "![](GCF_000001215.4_Release_6_plus_ISO1_MT_genomic.fna.K19.counts.histogram.svg)\n",
    "![](GCF_000001215.4_Release_6_plus_ISO1_MT_genomic.fna.K23.counts.histogram.svg)\n",
    "![](GCF_000001215.4_Release_6_plus_ISO1_MT_genomic.fna.K29.counts.histogram.svg)\n",
    "![](GCF_000001215.4_Release_6_plus_ISO1_MT_genomic.fna.K31.counts.histogram.svg)"
   ]
  },
  {
   "cell_type": "markdown",
   "metadata": {},
   "source": [
    "```bash\n",
    "# Vertebrates \t\tDanio rerio\n",
    "FASTA=GCF_000002035.6_GRCz11_genomic.fna\n",
    "K_RANGE=\"7 11 13 17 19 23 29 31\"\n",
    "parallel Eisenia\\ stream-kmers\\ --k\\ \\{1\\}\\ --fasta\\ $FASTA.gz\\ \\|\\ sort\\ --temporary-directory\\ \\.\\ --compress-program\\ gzip \\|\\ uniq\\ --count\\ \\| gzip\\ \\>\\ $FASTA.K\\{1\\}.counts.gz ::: $K_RANGE\n",
    "parallel gzip\\ --decompress\\ --stdout\\ $FASTA.K\\{1\\}.counts.gz\\ \\|\\ awk\\ \\'\\{print\\ \\$1\\}\\'\\ \\|\\ sort\\ --numeric\\ \\|\\ uniq\\ --count\\ \\>\\ $FASTA.K\\{1\\}.counts.histogram ::: $K_RANGE\n",
    "parallel Eisenia\\ plot\\ histogram\\ --histogram\\ $FASTA.K\\{1\\}.counts.histogram ::: $K_RANGE\n",
    "```"
   ]
  },
  {
   "cell_type": "markdown",
   "metadata": {},
   "source": [
    "Still calculating...\n",
    "<!--\n",
    "![](../_data/refseq_reference_genomes/GCF_000002035.6_GRCz11_genomic.fna.K7.counts.histogram.svg)\n",
    "![](../_data/refseq_reference_genomes/GCF_000002035.6_GRCz11_genomic.fna.K11.counts.histogram.svg)\n",
    "![](../_data/refseq_reference_genomes/GCF_000002035.6_GRCz11_genomic.fna.K13.counts.histogram.svg)\n",
    "![](../_data/refseq_reference_genomes/GCF_000002035.6_GRCz11_genomic.fna.K17.counts.histogram.svg)\n",
    "![](../_data/refseq_reference_genomes/GCF_000002035.6_GRCz11_genomic.fna.K19.counts.histogram.svg)\n",
    "![](../_data/refseq_reference_genomes/GCF_000002035.6_GRCz11_genomic.fna.K23.counts.histogram.svg)\n",
    "![](../_data/refseq_reference_genomes/GCF_000002035.6_GRCz11_genomic.fna.K29.counts.histogram.svg)\n",
    "![](../_data/refseq_reference_genomes/GCF_000002035.6_GRCz11_genomic.fna.K31.counts.histogram.svg)\n",
    "-->"
   ]
  },
  {
   "cell_type": "markdown",
   "metadata": {},
   "source": [
    "```bash\n",
    "# Rodents \t\tMus musculus\n",
    "FASTA=GCF_000001635.26_GRCm38.p6_genomic.fna\n",
    "K_RANGE=\"7 11 13 17 19 23 29 31\"\n",
    "parallel Eisenia\\ stream-kmers\\ --k\\ \\{1\\}\\ --fasta\\ $FASTA.gz\\ \\|\\ sort\\ --temporary-directory\\ \\.\\ --compress-program\\ gzip \\|\\ uniq\\ --count\\ \\| gzip\\ \\>\\ $FASTA.K\\{1\\}.counts.gz ::: $K_RANGE\n",
    "parallel gzip\\ --decompress\\ --stdout\\ $FASTA.K\\{1\\}.counts.gz\\ \\|\\ awk\\ \\'\\{print\\ \\$1\\}\\'\\ \\|\\ sort\\ --numeric\\ \\|\\ uniq\\ --count\\ \\>\\ $FASTA.K\\{1\\}.counts.histogram ::: $K_RANGE\n",
    "parallel Eisenia\\ plot\\ histogram\\ --histogram\\ $FASTA.K\\{1\\}.counts.histogram ::: $K_RANGE\n",
    "```"
   ]
  },
  {
   "cell_type": "markdown",
   "metadata": {},
   "source": [
    "Still calculating...\n",
    "<!--\n",
    "![](../_data/refseq_reference_genomes/GCF_000001635.26_GRCm38.p6_genomic.fna.K7.counts.histogram.svg)\n",
    "![](../_data/refseq_reference_genomes/GCF_000001635.26_GRCm38.p6_genomic.fna.K11.counts.histogram.svg)\n",
    "![](../_data/refseq_reference_genomes/GCF_000001635.26_GRCm38.p6_genomic.fna.K13.counts.histogram.svg)\n",
    "![](../_data/refseq_reference_genomes/GCF_000001635.26_GRCm38.p6_genomic.fna.K17.counts.histogram.svg)\n",
    "![](../_data/refseq_reference_genomes/GCF_000001635.26_GRCm38.p6_genomic.fna.K19.counts.histogram.svg)\n",
    "![](../_data/refseq_reference_genomes/GCF_000001635.26_GRCm38.p6_genomic.fna.K23.counts.histogram.svg)\n",
    "![](../_data/refseq_reference_genomes/GCF_000001635.26_GRCm38.p6_genomic.fna.K29.counts.histogram.svg)\n",
    "![](../_data/refseq_reference_genomes/GCF_000001635.26_GRCm38.p6_genomic.fna.K31.counts.histogram.svg)\n",
    "-->"
   ]
  },
  {
   "cell_type": "markdown",
   "metadata": {},
   "source": [
    "```bash\n",
    "# Primates \t\tHomo sapiens\n",
    "FASTA=GCF_000001405.39_GRCh38.p13_genomic.fna\n",
    "K_RANGE=\"7 11 13 17 19 23 29 31\"\n",
    "parallel Eisenia\\ stream-kmers\\ --k\\ \\{1\\}\\ --fasta\\ $FASTA.gz\\ \\|\\ sort\\ --temporary-directory\\ \\.\\ --compress-program\\ gzip \\|\\ uniq\\ --count\\ \\| gzip\\ \\>\\ $FASTA.K\\{1\\}.counts.gz ::: $K_RANGE\n",
    "parallel gzip\\ --decompress\\ --stdout\\ $FASTA.K\\{1\\}.counts.gz\\ \\|\\ awk\\ \\'\\{print\\ \\$1\\}\\'\\ \\|\\ sort\\ --numeric\\ \\|\\ uniq\\ --count\\ \\>\\ $FASTA.K\\{1\\}.counts.histogram ::: $K_RANGE\n",
    "parallel Eisenia\\ plot\\ histogram\\ --histogram\\ $FASTA.K\\{1\\}.counts.histogram ::: $K_RANGE\n",
    "```"
   ]
  },
  {
   "cell_type": "markdown",
   "metadata": {},
   "source": [
    "Still calculating...\n",
    "<!--\n",
    "![](../_data/refseq_reference_genomes/GCF_000001405.39_GRCh38.p13_genomic.fna.K7.counts.histogram.svg)\n",
    "![](../_data/refseq_reference_genomes/GCF_000001405.39_GRCh38.p13_genomic.fna.K11.counts.histogram.svg)\n",
    "![](../_data/refseq_reference_genomes/GCF_000001405.39_GRCh38.p13_genomic.fna.K13.counts.histogram.svg)\n",
    "![](../_data/refseq_reference_genomes/GCF_000001405.39_GRCh38.p13_genomic.fna.K17.counts.histogram.svg)\n",
    "![](../_data/refseq_reference_genomes/GCF_000001405.39_GRCh38.p13_genomic.fna.K19.counts.histogram.svg)\n",
    "![](../_data/refseq_reference_genomes/GCF_000001405.39_GRCh38.p13_genomic.fna.K23.counts.histogram.svg)\n",
    "![](../_data/refseq_reference_genomes/GCF_000001405.39_GRCh38.p13_genomic.fna.K29.counts.histogram.svg)\n",
    "![](../_data/refseq_reference_genomes/GCF_000001405.39_GRCh38.p13_genomic.fna.K31.counts.histogram.svg)\n",
    "-->"
   ]
  },
  {
   "cell_type": "markdown",
   "metadata": {},
   "source": [
    "Additional work forthcoming includes:\n",
    "- programmatically finding the smallest k-length that obtains a linear log-log kmer histogram relationship\n",
    "- simulating new genomes that utilize this kmer distribution\n",
    "- determining whether this minimal linear log-log k value is the optimal starting value for genome assembly and identification in all cases, or just some cases\n",
    "- assessing how different error profiles from different sequencing technologies affect this count-frequency relationship (e.g. converging to zipfs law?)\n",
    "- assessing how this count-frequency relationship changes in mixed metagenomic communities"
   ]
  }
 ],
 "metadata": {
  "kernelspec": {
   "display_name": "Julia 1.1.0",
   "language": "julia",
   "name": "julia-1.1"
  },
  "language_info": {
   "file_extension": ".jl",
   "mimetype": "application/julia",
   "name": "julia",
   "version": "1.1.0"
  }
 },
 "nbformat": 4,
 "nbformat_minor": 2
}
